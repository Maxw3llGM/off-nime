{
 "cells": [
  {
   "cell_type": "code",
   "execution_count": 14,
   "metadata": {},
   "outputs": [],
   "source": [
    "from functions_helper import *\n",
    "import re"
   ]
  },
  {
   "cell_type": "code",
   "execution_count": 194,
   "metadata": {},
   "outputs": [
    {
     "name": "stdout",
     "output_type": "stream",
     "text": [
      "../CMJ/CMJ.pkl\n",
      "../ICMC/ICMC.pkl\n",
      "../ISIDM/ISIDM.pkl\n",
      "43 207 745\n"
     ]
    }
   ],
   "source": [
    "directories = [\"CMJ\",\"ICMC\",\"ISIDM\"]\n",
    "bib_references = []\n",
    "for d in directories:\n",
    "    print(f\"../{d}/{d}.pkl\")\n",
    "    bib_references.append(pkl_fetcher(f\"../{d}/{d}.pkl\"))\n",
    "\n",
    "list0 = sorted(bib_references[0][0].entries, key=(lambda x: x.key[0]))\n",
    "list1 = sorted(bib_references[1][0].entries, key=(lambda x: x.key[0]))\n",
    "list2 = sorted(bib_references[2][0].entries, key=(lambda x: x.key[0]))\n",
    "\n",
    "print(len(list0), len(list1), len(list2))"
   ]
  },
  {
   "cell_type": "code",
   "execution_count": null,
   "metadata": {},
   "outputs": [],
   "source": [
    "from difflib import SequenceMatcher\n",
    "\n",
    "pattern = r\"(\\d{4}).*\"\n",
    "count = 0\n",
    "entries_array = [[],[]]\n",
    "throw_aways = []\n",
    "for index, entrie in enumerate(list2):\n",
    "    entrie.key = entrie.key.replace('_','')\n",
    "    result = re.sub(pattern, r\"\\1\", entrie.key)\n",
    "    for entrie2 in list1:\n",
    "        if result == entrie2.key:\n",
    "            title1 = entrie[\"title\"].replace('{','').replace('}','')\n",
    "            title2 = entrie2[\"title\"].replace('{','').replace('}','')\n",
    "            m = SequenceMatcher(None, title1, title2)\n",
    "            if m.ratio() > 0.8:\n",
    "                a = title1.lower()\n",
    "                old_a = a\n",
    "                a = a.split(\" \")\n",
    "                a = sorted(a)\n",
    "                   \n",
    "                b = title2.lower()\n",
    "                old_b = b \n",
    "                b = b.split(\" \")\n",
    "                b = sorted(b)\n",
    "                for letter_b in b:\n",
    "                    for letter_a in a:\n",
    "                        if letter_b == letter_a:\n",
    "                            a.remove(letter_b)\n",
    "                if(len(a)!= 0):\n",
    "                    print(f\"{old_a} - \\n{old_b} = \\n{a} {m.ratio()}\\n****************************\")\n",
    "                else:\n",
    "                    print(f\"{a} {m.ratio()}\")\n",
    "                # count -= 1\n",
    "            count += 1\n",
    "\n",
    "print(f\"duplicates: {count}\")\n",
    "print(f\"How much would be removed after duplicates: {len(list2)-count}\")"
   ]
  },
  {
   "cell_type": "code",
   "execution_count": null,
   "metadata": {},
   "outputs": [],
   "source": [
    "pattern = r\"(\\d{4}).*\"\n",
    "count = 0\n",
    "entries_array = [[],[]]\n",
    "throw_aways = []\n",
    "\n",
    "for index, entrie in enumerate(list2):\n",
    "\n",
    "    entrie.key = entrie.key.replace('_','')\n",
    "    result = re.sub(pattern, r\"\\1\", entrie.key)\n",
    "    for entrie2 in list1:\n",
    "        if result == entrie2.key:\n",
    "            title1 = entrie[\"title\"].replace('{','').replace('}','')\n",
    "            title2 = entrie2[\"title\"].replace('{','').replace('}','')\n",
    "            m = SequenceMatcher(None, title1, title2)\n",
    "            if m.ratio() > 0.8:\n",
    "                list2[index] = ''\n",
    "                # count -= 1\n",
    "\n",
    "\n",
    "print(f\"duplicates: {count}\")\n",
    "print(f\"How much would be removed after duplicates: {len(list2)-count}\")"
   ]
  },
  {
   "cell_type": "code",
   "execution_count": 175,
   "metadata": {},
   "outputs": [
    {
     "name": "stdout",
     "output_type": "stream",
     "text": [
      "646\n",
      "0\n"
     ]
    }
   ],
   "source": [
    "list2_filtered = []\n",
    "count = 0\n",
    "for x in list2:\n",
    "    if x != '':\n",
    "        list2_filtered.append(x)\n",
    "print(len(list2_filtered))\n",
    "for x in list2_filtered:\n",
    "    if x == '':\n",
    "        count += 1\n",
    "print(count)"
   ]
  },
  {
   "cell_type": "code",
   "execution_count": 185,
   "metadata": {},
   "outputs": [],
   "source": [
    "list2 = list2_filtered\n"
   ]
  },
  {
   "cell_type": "code",
   "execution_count": 192,
   "metadata": {},
   "outputs": [],
   "source": [
    "skip = 0\n",
    "list2_filtered_deduplicated = []\n",
    "for index, entrie in enumerate(list2_filtered):\n",
    "    skip = 0\n",
    "    entrie.key = entrie.key.replace('_','')\n",
    "    result = re.sub(pattern, r\"\\1\", entrie.key)\n",
    "    for entrie2 in list0:\n",
    "        if result == entrie2.key:\n",
    "            title1 = entrie[\"title\"].replace('{','').replace('}','')\n",
    "            title2 = entrie2[\"title\"].replace('{','').replace('}','')\n",
    "            m = SequenceMatcher(None, title1, title2)\n",
    "            if m.ratio() > 0.8:\n",
    "                skip = 1\n",
    "    if skip == 0:\n",
    "        list2_filtered_deduplicated.append(entrie)\n",
    "\n",
    "for index, entrie in enumerate(list2_filtered_deduplicated):\n",
    "    skip = 0\n",
    "    entrie.key = entrie.key.replace('_','')\n",
    "    result = re.sub(pattern, r\"\\1\", entrie.key)\n",
    "    for entrie2 in list0:\n",
    "        if result == entrie2.key:\n",
    "            title1 = entrie[\"title\"].replace('{','').replace('}','')\n",
    "            title2 = entrie2[\"title\"].replace('{','').replace('}','')\n",
    "            m = SequenceMatcher(None, title1, title2)\n",
    "            if m.ratio() > 0.8:\n",
    "                a = title1.lower()\n",
    "                old_a = a\n",
    "                a = a.split(\" \")\n",
    "                a = sorted(a)\n",
    "                   \n",
    "                b = title2.lower()\n",
    "                old_b = b \n",
    "                b = b.split(\" \")\n",
    "                b = sorted(b)\n",
    "                for letter_b in b:\n",
    "                    for letter_a in a:\n",
    "                        if letter_b == letter_a:\n",
    "                            a.remove(letter_b)\n",
    "                if(len(a)!= 0):\n",
    "                    print(f\"{old_a} - \\n{old_b} = \\n{a} {m.ratio()}\\n****************************\")\n",
    "                else:\n",
    "                    print(f\"{a} {m.ratio()}\")\n",
    "                # count -= 1\n",
    "            count += 1"
   ]
  },
  {
   "cell_type": "code",
   "execution_count": 197,
   "metadata": {},
   "outputs": [
    {
     "name": "stdout",
     "output_type": "stream",
     "text": [
      "Pre-Deduplication => CMJ : 43 | ICMC : 207, ISIDM : 745\n",
      "Post-Deduplication => CMJ duplicate quantity : 4 | ICMC duplicate quantity: 99, results = 642 | ISIDM remainder : 642\n"
     ]
    }
   ],
   "source": [
    "count_duplicate0 = 0\n",
    "count_duplicate1 = 0\n",
    "\n",
    "for index, entrie in enumerate(list2):\n",
    "    skip = 0\n",
    "    entrie.key = entrie.key.replace('_','')\n",
    "    result = re.sub(pattern, r\"\\1\", entrie.key)\n",
    "    for entrie2 in list0:\n",
    "        if result == entrie2.key:\n",
    "            title1 = entrie[\"title\"].replace('{','').replace('}','')\n",
    "            title2 = entrie2[\"title\"].replace('{','').replace('}','')\n",
    "            m = SequenceMatcher(None, title1, title2)\n",
    "            if m.ratio() > 0.8:\n",
    "                \n",
    "                # count -= 1\n",
    "                count_duplicate0 += 1\n",
    "    for entrie2 in list1:\n",
    "        if result == entrie2.key:\n",
    "            title1 = entrie[\"title\"].replace('{','').replace('}','')\n",
    "            title2 = entrie2[\"title\"].replace('{','').replace('}','')\n",
    "            m = SequenceMatcher(None, title1, title2)\n",
    "            if m.ratio() > 0.8:\n",
    "                \n",
    "                # count -= 1\n",
    "                count_duplicate1 += 1\n",
    "\n",
    "print(f\"Pre-Deduplication => CMJ : {len(list0)} | ICMC : {len(list1)}, ISIDM : {len(list2)}\")\n",
    "print(f\"Post-Deduplication => CMJ duplicate quantity : {count_duplicate0} | ICMC duplicate quantity: {count_duplicate1}, results = {len(list2)-count_duplicate0-count_duplicate1} | ISIDM remainder : {len(list2_filtered_deduplicated)}\")"
   ]
  },
  {
   "cell_type": "code",
   "execution_count": null,
   "metadata": {},
   "outputs": [],
   "source": [
    "count = 0\n",
    "old_key = list2_filtered_deduplicated[0].key\n",
    "for entrie1 in list2_filtered_deduplicated:\n",
    "    for entrie2 in list2_filtered_deduplicated:\n",
    "        result1 = re.sub(pattern, r\"\\1\", entrie1.key)\n",
    "        result2 = re.sub(pattern, r\"\\1\", entrie2.key)\n",
    "        if entrie1.key != entrie2.key and old_key != entrie2.key:\n",
    "            if result1 == result2:\n",
    "                # print(f\"{result1} = {result2}\")\n",
    "                title1 = entrie1[\"title\"].replace('{','').replace('}','')\n",
    "                title2 = entrie2[\"title\"].replace('{','').replace('}','')\n",
    "                m = SequenceMatcher(None, title1, title2)\n",
    "                if m.ratio() > 0.8:\n",
    "                    count += 1\n",
    "                    a = title1.lower()\n",
    "                    old_a = a\n",
    "                    a = a.split(\" \")\n",
    "                    a = sorted(a)\n",
    "                    \n",
    "                    b = title2.lower()\n",
    "                    old_b = b \n",
    "                    b = b.split(\" \")\n",
    "                    b = sorted(b)\n",
    "                    for letter_b in b:\n",
    "                        for letter_a in a:\n",
    "                            if letter_b == letter_a:\n",
    "                                a.remove(letter_b)\n",
    "                    # if(len(a)!= 0):\n",
    "                    #     print(f\"{old_a} - \\n{old_b} = \\n{a} {m.ratio()}\\n****************************\")\n",
    "                    # else:\n",
    "                    #     print(f\"{title1.lower()} - \\n{title2.lower()} {m.ratio()}\\n****************************\")\n",
    "                    print({entrie1.key}, {entrie2.key})\n",
    "                    count += 1\n",
    "                old_key = entrie1.key"
   ]
  },
  {
   "cell_type": "code",
   "execution_count": 232,
   "metadata": {},
   "outputs": [
    {
     "name": "stdout",
     "output_type": "stream",
     "text": [
      "52\n"
     ]
    }
   ],
   "source": [
    "print(count)"
   ]
  },
  {
   "cell_type": "code",
   "execution_count": 243,
   "metadata": {},
   "outputs": [
    {
     "name": "stdout",
     "output_type": "stream",
     "text": [
      "../CMJ/CMJ.pkl\n",
      "../ICMC/ICMC.pkl\n",
      "../ISIDM/ISIDM.pkl\n",
      "2024-11-08\n"
     ]
    }
   ],
   "source": [
    "\"\"\"\n",
    "Make a back-up of the current pkl, in case a bad change was made.\n",
    "\"\"\"\n",
    "import shutil\n",
    "from datetime import date\n",
    "for d in directories:\n",
    "    print(f\"../{d}/{d}.pkl\")\n",
    "    shutil.copy(f\"../{d}/{d}.pkl\", f\"../backups/{d}_{date.today()}.pkl\")\n",
    "print(date.today())"
   ]
  },
  {
   "cell_type": "code",
   "execution_count": 249,
   "metadata": {},
   "outputs": [
    {
     "name": "stdout",
     "output_type": "stream",
     "text": [
      "2 642\n",
      "@article{Goudeseune_2002_Interpolated,\n",
      "\tauthor = {Goudeseune, C.},\n",
      "\tyear = {2002},\n",
      "\ttitle = {{Interpolated Mappings for Musical Instruments}},\n",
      "\tjournal = {Organised Sound},\n",
      "\tvolume = {7},\n",
      "\tnumber = {2},\n",
      "\tpages = {85-96}\n",
      "}\n",
      "@article{Wessel1991Instruments,\n",
      "\tauthor = {Wessel, D.},\n",
      "\tyear = {1991},\n",
      "\ttitle = {{Instruments that Learn, Refined Controllers, and Source Model Loudspeakers}},\n",
      "\tjournal = {Computer Music Journal},\n",
      "\tvolume = {15},\n",
      "\tnumber = {4},\n",
      "\tpages = {82-86}\n",
      "}\n"
     ]
    }
   ],
   "source": [
    "\"\"\"\n",
    "Apply the change to the pkl\n",
    "\"\"\"\n",
    "new_isidm_ref_lib = bp.Library()\n",
    "for entrie in list2_filtered_deduplicated:\n",
    "    new_isidm_ref_lib.add(entrie)\n",
    "\n",
    "print(len(new_isidm_ref_lib.entries), len(list2_filtered_deduplicated))\n",
    "for entrie in new_isidm_ref_lib.failed_blocks:\n",
    "    print(entrie.raw)"
   ]
  },
  {
   "cell_type": "code",
   "execution_count": 252,
   "metadata": {},
   "outputs": [
    {
     "name": "stdout",
     "output_type": "stream",
     "text": [
      "640\n"
     ]
    }
   ],
   "source": [
    "\"\"\"\n",
    "checked to see if it has been applied\n",
    "\"\"\"\n",
    "# pkl_storer(f\"../ISIDM/ISIDM.pkl\", new_isidm_ref_lib)\n",
    "lib_verifier = pkl_fetcher(\"../ISIDM/ISIDM.pkl\")\n",
    "print(len(lib_verifier.entries))    "
   ]
  },
  {
   "cell_type": "code",
   "execution_count": 271,
   "metadata": {},
   "outputs": [
    {
     "name": "stdout",
     "output_type": "stream",
     "text": [
      "640\n",
      "103\n"
     ]
    }
   ],
   "source": [
    "\"\"\"\n",
    "Remove the files that were deleted\n",
    "\"\"\"\n",
    "directory = \"../ISIDM\"+\"/bib_files\"\n",
    "bib_folders = [folder for folder in os.listdir(directory)]\n",
    "bib_folders.remove(\"other\")\n",
    "key_list = [entrie.key for entrie in new_isidm_ref_lib.entries]\n",
    "print(len(key_list))\n",
    "countous = 0\n",
    "for folder in bib_folders:\n",
    "    for f in os.listdir(directory+\"/\"+folder):\n",
    "        file_key = f.replace(\".bib\",\"\").replace(\"_\",\"\")\n",
    "        if file_key not in key_list:\n",
    "            os.remove(f\"{directory}/{folder}/{f}\")\n",
    "            countous += 1\n",
    "print(countous)\n",
    "\n"
   ]
  },
  {
   "cell_type": "code",
   "execution_count": 273,
   "metadata": {},
   "outputs": [
    {
     "name": "stdout",
     "output_type": "stream",
     "text": [
      "../CMJ/CMJ.pkl\n",
      "../ICMC/ICMC.pkl\n",
      "../ISIDM/ISIDM.pkl\n"
     ]
    }
   ],
   "source": [
    "directories = [\"CMJ\",\"ICMC\",\"ISIDM\"]\n",
    "bib_references = []\n",
    "for d in directories:\n",
    "    print(\"../\"+d+\"/\"+d+\".pkl\")\n",
    "    bib_list = references_fetcher(\"../\"+d)\n",
    "    pkl_storer(\"../\"+d+\"/\"+d+\".pkl\", bib_list)\n"
   ]
  },
  {
   "cell_type": "code",
   "execution_count": 279,
   "metadata": {},
   "outputs": [
    {
     "name": "stdout",
     "output_type": "stream",
     "text": [
      "625\n"
     ]
    }
   ],
   "source": [
    "lib_verifier = pkl_fetcher(\"../ISIDM/ISIDM.pkl\")\n",
    "print(len(lib_verifier[0].entries))   "
   ]
  },
  {
   "cell_type": "code",
   "execution_count": 280,
   "metadata": {},
   "outputs": [
    {
     "name": "stdout",
     "output_type": "stream",
     "text": [
      "{'Cadoz1990Feedback'} {'Cadoz1990Modular'}\n",
      "{'Hunt1999phd'} {'Hunt1999Radical'}\n",
      "{'Hunt1999Radical'} {'Hunt1999phd'}\n"
     ]
    }
   ],
   "source": [
    "for entrie1 in lib_verifier[0].entries:\n",
    "    for entrie2 in lib_verifier[0].entries:\n",
    "        result1 = re.sub(pattern, r\"\\1\", entrie1.key)\n",
    "        result2 = re.sub(pattern, r\"\\1\", entrie2.key)\n",
    "        if entrie1.key != entrie2.key and old_key != entrie2.key:\n",
    "            if result1 == result2:\n",
    "                # print(f\"{result1} = {result2}\")\n",
    "                title1 = entrie1[\"title\"].replace('{','').replace('}','')\n",
    "                title2 = entrie2[\"title\"].replace('{','').replace('}','')\n",
    "                m = SequenceMatcher(None, title1, title2)\n",
    "                if m.ratio() > 0.8:\n",
    "                    count += 1\n",
    "                    a = title1.lower()\n",
    "                    old_a = a\n",
    "                    a = a.split(\" \")\n",
    "                    a = sorted(a)\n",
    "                    \n",
    "                    b = title2.lower()\n",
    "                    old_b = b \n",
    "                    b = b.split(\" \")\n",
    "                    b = sorted(b)\n",
    "                    for letter_b in b:\n",
    "                        for letter_a in a:\n",
    "                            if letter_b == letter_a:\n",
    "                                a.remove(letter_b)\n",
    "                    # if(len(a)!= 0):\n",
    "                    #     print(f\"{old_a} - \\n{old_b} = \\n{a} {m.ratio()}\\n****************************\")\n",
    "                    # else:\n",
    "                    #     print(f\"{title1.lower()} - \\n{title2.lower()} {m.ratio()}\\n****************************\")\n",
    "                    print({entrie1.key}, {entrie2.key})\n",
    "                    count += 1\n",
    "                old_key = entrie1.key"
   ]
  },
  {
   "cell_type": "code",
   "execution_count": null,
   "metadata": {},
   "outputs": [],
   "source": [
    "import ipywidgets as widgets\n",
    "from ipywidgets import Layout, Box, Output\n",
    "\n",
    "row_box_layout = Layout(display='flex',\n",
    "                    flex_flow='column', \n",
    "                    align_items='stretch', \n",
    "                    border='solid',\n",
    "                    width='50%')\n",
    "column_box_layout = Layout(display='flex',\n",
    "                    flex_flow='row', \n",
    "                    align_items='stretch', \n",
    "                    border='solid',\n",
    "                    width='100%')\n",
    "\n",
    "\n",
    "pattern = r\"(\\d{4}).*\"\n",
    "count = 0\n",
    "entries_array = [[],[]]\n",
    "throw_aways = []\n",
    "for index, entrie in enumerate(list2):\n",
    "    entrie.key = entrie.key.replace('_','')\n",
    "    result = re.sub(pattern, r\"\\1\", entrie.key)\n",
    "    for entrie2 in list1:\n",
    "        if result == entrie2.key:\n",
    "            data = [entrie, entrie2]\n",
    "            items0 = []\n",
    "            for key, value in data[0].items():\n",
    "                items0.append(Output(layout={'border': '1px solid black'}))\n",
    "                items0[-1].append_stdout(f\"{key} : {value}\")\n",
    "            items1 = []\n",
    "            for key, value in data[1].items():\n",
    "                items1.append(Output(layout={'border': '1px solid black'}))\n",
    "                items1[-1].append_stdout(f\"{key} : {value}\")\n",
    "\n",
    "            column0 = Box(items0, layout=row_box_layout)\n",
    "            column1 = Box(items1, layout=row_box_layout)\n",
    "\n",
    "            row0 = Box([column0,column1], layout=column_box_layout)\n",
    "\n",
    "            display(row0)\n",
    "\n",
    "            answer = input(\"Do we reject it? [Y/n]\")\n",
    "            if (answer.lower() in ['','y',\"yes\"]): \n",
    "                thrownaway_entrie = list2.pop(index)\n",
    "                throw_aways.append(thrownaway_entrie)\n",
    "                print(\"throwing away\")\n",
    "            else:\n",
    "                print(\"Keeping\")\n",
    "            row0.close()\n",
    "            count += 1"
   ]
  },
  {
   "cell_type": "code",
   "execution_count": 83,
   "metadata": {},
   "outputs": [
    {
     "name": "stdout",
     "output_type": "stream",
     "text": [
      "duplicates: 0\n",
      "How much would be removed after duplicates: 661\n"
     ]
    }
   ],
   "source": [
    "pattern = r\"(\\d{4}).*\"\n",
    "count = 0\n",
    "entries_array = [[],[]]\n",
    "throw_aways = []\n",
    "for index, entrie in enumerate(throw_aways):\n",
    "    entrie.key = entrie.key.replace('_','')\n",
    "    result = re.sub(pattern, r\"\\1\", entrie.key)\n",
    "    for entrie2 in list1:\n",
    "        if result == entrie2.key:\n",
    "            count += 1\n",
    "print(f\"duplicates: {count}\")\n",
    "print(f\"How much would be removed after duplicates: {len(list2)-count}\")"
   ]
  },
  {
   "cell_type": "code",
   "execution_count": null,
   "metadata": {},
   "outputs": [],
   "source": [
    "# items0 = []\n",
    "# for key, value in data[0].items():\n",
    "#     items0.append(Output(layout={'border': '1px solid black'}))\n",
    "#     items0[-1].append_stdout(f\"{key} : {value}\")\n",
    "# items1 = []\n",
    "# for key, value in data[1].items():\n",
    "#     items1.append(Output(layout={'border': '1px solid black'}))\n",
    "#     items1[-1].append_stdout(f\"{key} : {value}\")\n",
    "\n",
    "# column0 = Box(items0, layout=row_box_layout)\n",
    "# column1 = Box(items1, layout=row_box_layout)\n",
    "\n",
    "# row0 = Box([column0,column1], layout=column_box_layout)\n",
    "\n",
    "# display(row0)"
   ]
  }
 ],
 "metadata": {
  "kernelspec": {
   "display_name": "gpt",
   "language": "python",
   "name": "python3"
  },
  "language_info": {
   "codemirror_mode": {
    "name": "ipython",
    "version": 3
   },
   "file_extension": ".py",
   "mimetype": "text/x-python",
   "name": "python",
   "nbconvert_exporter": "python",
   "pygments_lexer": "ipython3",
   "version": "3.12.3"
  }
 },
 "nbformat": 4,
 "nbformat_minor": 2
}
